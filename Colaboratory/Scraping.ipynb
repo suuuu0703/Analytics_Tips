{
  "nbformat": 4,
  "nbformat_minor": 0,
  "metadata": {
    "colab": {
      "name": "Scrapy.ipynb",
      "provenance": [],
      "authorship_tag": "ABX9TyP922ms1+xo3CzXqGcBseAI",
      "include_colab_link": true
    },
    "kernelspec": {
      "name": "python3",
      "display_name": "Python 3"
    }
  },
  "cells": [
    {
      "cell_type": "markdown",
      "metadata": {
        "id": "view-in-github",
        "colab_type": "text"
      },
      "source": [
        "<a href=\"https://colab.research.google.com/github/suuuu0703/Analytics_Tips/blob/master/Colaboratory/Scraping.ipynb\" target=\"_parent\"><img src=\"https://colab.research.google.com/assets/colab-badge.svg\" alt=\"Open In Colab\"/></a>"
      ]
    },
    {
      "cell_type": "markdown",
      "metadata": {
        "id": "CKbrngJw5-5Y",
        "colab_type": "text"
      },
      "source": [
        "#前処理"
      ]
    },
    {
      "cell_type": "markdown",
      "metadata": {
        "id": "TWktrbWcjgbs",
        "colab_type": "text"
      },
      "source": [
        "##日本語フォントインストール（※実行後にランタイムの再起動が必要）"
      ]
    },
    {
      "cell_type": "code",
      "metadata": {
        "id": "gszjn4mgDcU1",
        "colab_type": "code",
        "colab": {}
      },
      "source": [
        "# 日本語フォントをダウンロードする。\n",
        "!apt-get -y install fonts-ipafont-gothic\n",
        "\n",
        "# キャッシュを削除する。\n",
        "!rm /root/.cache/matplotlib/fontlist-v300.json # 消すべきcache\n",
        "\n",
        "# ランタイムを再起動する。"
      ],
      "execution_count": 0,
      "outputs": []
    },
    {
      "cell_type": "markdown",
      "metadata": {
        "id": "huCYpWVYPi2r",
        "colab_type": "text"
      },
      "source": [
        "##基本ライブラリインポート"
      ]
    },
    {
      "cell_type": "code",
      "metadata": {
        "id": "0qJ9xGjs4D1O",
        "colab_type": "code",
        "outputId": "c2495119-3ae4-4fe1-bcc0-05aff63d6655",
        "colab": {
          "base_uri": "https://localhost:8080/",
          "height": 34
        }
      },
      "source": [
        "try:\n",
        "  %matplotlib inline\n",
        "  from IPython.display import clear_output\n",
        "  import pandas as pd\n",
        "  pd.options.display.max_columns = 1000\n",
        "  pd.options.display.max_rows = 10000\n",
        "\n",
        "  # 描画用ライブラリ\n",
        "  import matplotlib.pyplot as plt\n",
        "  import seaborn as sns\n",
        "  sns.set(context='paper', style='whitegrid')\n",
        "  sns.set_context(\"poster\")\n",
        "  fpath = {'fontname':'IPAGothic'}\n",
        "\n",
        "  # 日本語化\n",
        "  !pip install japanize-matplotlib\n",
        "  import japanize_matplotlib\n",
        "\n",
        "  clear_output()\n",
        "  print('All Loaded')        \n",
        "except Exception as e:\n",
        "  print(e)\n",
        "  pass"
      ],
      "execution_count": 11,
      "outputs": [
        {
          "output_type": "stream",
          "text": [
            "All Loaded\n"
          ],
          "name": "stdout"
        }
      ]
    },
    {
      "cell_type": "markdown",
      "metadata": {
        "id": "Yeyb7axy9T9b",
        "colab_type": "text"
      },
      "source": [
        "##スクレイピング用ライブラリインポート"
      ]
    },
    {
      "cell_type": "code",
      "metadata": {
        "id": "p_WC1rDm5-Xk",
        "colab_type": "code",
        "colab": {
          "base_uri": "https://localhost:8080/",
          "height": 34
        },
        "outputId": "fbea582b-e476-49bc-9daa-661535cec30c"
      },
      "source": [
        "try:\n",
        "    import requests,re,time\n",
        "    from bs4 import BeautifulSoup\n",
        "    clear_output()\n",
        "    print('All Loaded') \n",
        "except Exception as e:\n",
        "    print(e)\n",
        "    pass"
      ],
      "execution_count": 15,
      "outputs": [
        {
          "output_type": "stream",
          "text": [
            "All Loaded\n"
          ],
          "name": "stdout"
        }
      ]
    },
    {
      "cell_type": "code",
      "metadata": {
        "id": "Wc28x62ls8Ww",
        "colab_type": "code",
        "colab": {
          "base_uri": "https://localhost:8080/",
          "height": 134
        },
        "outputId": "95dcb928-cde9-4b0d-a13a-054adf516ddc"
      },
      "source": [
        ""
      ],
      "execution_count": 14,
      "outputs": [
        {
          "output_type": "error",
          "ename": "SyntaxError",
          "evalue": "ignored",
          "traceback": [
            "\u001b[0;36m  File \u001b[0;32m\"<ipython-input-14-ff7c21f7a94f>\"\u001b[0;36m, line \u001b[0;32m1\u001b[0m\n\u001b[0;31m    scrapy startproject ten_min_scrapy\u001b[0m\n\u001b[0m                      ^\u001b[0m\n\u001b[0;31mSyntaxError\u001b[0m\u001b[0;31m:\u001b[0m invalid syntax\n"
          ]
        }
      ]
    },
    {
      "cell_type": "markdown",
      "metadata": {
        "id": "NFOgpM9w8FfQ",
        "colab_type": "text"
      },
      "source": [
        "#データ取得"
      ]
    },
    {
      "cell_type": "code",
      "metadata": {
        "id": "b42H4M2V8G_V",
        "colab_type": "code",
        "colab": {}
      },
      "source": [
        "#jobidにTDの実行済みJOBのjobidを記述\n",
        "df = td_job_result(\"jobid\")"
      ],
      "execution_count": 0,
      "outputs": []
    }
  ]
}
