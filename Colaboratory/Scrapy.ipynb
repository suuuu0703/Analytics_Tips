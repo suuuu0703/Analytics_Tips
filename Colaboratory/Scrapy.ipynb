{
  "nbformat": 4,
  "nbformat_minor": 0,
  "metadata": {
    "colab": {
      "name": "Scrapy.ipynb",
      "provenance": [],
      "authorship_tag": "ABX9TyMaHslXElif3Y8+IcgKFNvB",
      "include_colab_link": true
    },
    "kernelspec": {
      "name": "python3",
      "display_name": "Python 3"
    }
  },
  "cells": [
    {
      "cell_type": "markdown",
      "metadata": {
        "id": "view-in-github",
        "colab_type": "text"
      },
      "source": [
        "<a href=\"https://colab.research.google.com/github/suuuu0703/Analytics_Tips/blob/master/Colaboratory/Scrapy.ipynb\" target=\"_parent\"><img src=\"https://colab.research.google.com/assets/colab-badge.svg\" alt=\"Open In Colab\"/></a>"
      ]
    },
    {
      "cell_type": "markdown",
      "metadata": {
        "id": "CKbrngJw5-5Y",
        "colab_type": "text"
      },
      "source": [
        "#前処理"
      ]
    },
    {
      "cell_type": "markdown",
      "metadata": {
        "id": "TWktrbWcjgbs",
        "colab_type": "text"
      },
      "source": [
        "##日本語フォントインストール（※実行後にランタイムの再起動が必要）"
      ]
    },
    {
      "cell_type": "code",
      "metadata": {
        "id": "gszjn4mgDcU1",
        "colab_type": "code",
        "colab": {}
      },
      "source": [
        "# 日本語フォントをダウンロードする。\n",
        "!apt-get -y install fonts-ipafont-gothic\n",
        "\n",
        "# キャッシュを削除する。\n",
        "!rm /root/.cache/matplotlib/fontlist-v300.json # 消すべきcache\n",
        "\n",
        "# ランタイムを再起動する。"
      ],
      "execution_count": 0,
      "outputs": []
    },
    {
      "cell_type": "markdown",
      "metadata": {
        "id": "huCYpWVYPi2r",
        "colab_type": "text"
      },
      "source": [
        "##基本ライブラリインポート"
      ]
    },
    {
      "cell_type": "code",
      "metadata": {
        "id": "0qJ9xGjs4D1O",
        "colab_type": "code",
        "outputId": "be6f271d-8398-4a1b-ef41-39f10812f8bd",
        "colab": {
          "base_uri": "https://localhost:8080/",
          "height": 34
        }
      },
      "source": [
        "try:\n",
        "  %matplotlib inline\n",
        "  import pandas as pd\n",
        "  pd.options.display.max_columns = 1000\n",
        "  pd.options.display.max_rows = 10000\n",
        "\n",
        "  # 描画用ライブラリ\n",
        "  import matplotlib.pyplot as plt\n",
        "  import seaborn as sns\n",
        "  sns.set(context='paper', style='whitegrid')\n",
        "  sns.set_context(\"poster\")\n",
        "  fpath = {'fontname':'IPAGothic'}\n",
        "\n",
        "  # 日本語化\n",
        "  !pip install japanize-matplotlib\n",
        "  import japanize_matplotlib\n",
        "\n",
        "  clear_output()\n",
        "  print('All Loaded')        \n",
        "except Exception as e:\n",
        "  print(e)\n",
        "  pass"
      ],
      "execution_count": 0,
      "outputs": [
        {
          "output_type": "stream",
          "text": [
            "All Loaded\n"
          ],
          "name": "stdout"
        }
      ]
    },
    {
      "cell_type": "markdown",
      "metadata": {
        "id": "Yeyb7axy9T9b",
        "colab_type": "text"
      },
      "source": [
        "##TreasureData用ライブラリインポート"
      ]
    },
    {
      "cell_type": "code",
      "metadata": {
        "id": "p_WC1rDm5-Xk",
        "colab_type": "code",
        "colab": {}
      },
      "source": [
        "!pip install -U -q PyDrive td-client\n",
        "from IPython.display import clear_output\n",
        "try:\n",
        "\n",
        "    # TD_API_KEY取得のためのGoogleドライブファイルインポート用ライブラリインポート\n",
        "    from pydrive.auth import GoogleAuth\n",
        "    from pydrive.drive import GoogleDrive\n",
        "    from google.colab import auth\n",
        "    from oauth2client.client import GoogleCredentials\n",
        "    from googleapiclient.discovery import build\n",
        "    auth.authenticate_user()\n",
        "    gauth = GoogleAuth()\n",
        "    gauth.credentials = GoogleCredentials.get_application_default()\n",
        "    drive = GoogleDrive(gauth)\n",
        "    drive_service = build('drive', 'v3')\n",
        "\n",
        "    #Google Drive > Colab Notebooksディレクトリ配下にTD_API_KEYというファイル名でTDのAPI Key（Master Key）を記述して保管\n",
        "    find_file = drive_service.files().list(q=\"name = 'TD_API_KEY'\", fields=\"files(id)\").execute()\n",
        "    file_id = find_file.get('files', [])[0]['id']\n",
        "    drive_file = drive.CreateFile({'id': file_id})\n",
        "    td_api_key = drive_file.GetContentString().strip()\n",
        "\n",
        "    # TD_REST_API用ライブラリインポート\n",
        "    import tdclient\n",
        "    def td_job_result(jobid):\n",
        "      with tdclient.Client(apikey = td_api_key) as client:\n",
        "          job_header = client.job(jobid).result_schema\n",
        "          job_results = client.job_result(jobid)\n",
        "      header = [row[0] for row in job_header]\n",
        "      results = pd.DataFrame(job_results)\n",
        "      results.columns = header\n",
        "      return results\n",
        "    clear_output()\n",
        "    print('All Loaded')        \n",
        "except Exception as e:\n",
        "  print(e)\n",
        "  pass"
      ],
      "execution_count": 0,
      "outputs": []
    },
    {
      "cell_type": "markdown",
      "metadata": {
        "id": "NFOgpM9w8FfQ",
        "colab_type": "text"
      },
      "source": [
        "#データ取得"
      ]
    },
    {
      "cell_type": "code",
      "metadata": {
        "id": "b42H4M2V8G_V",
        "colab_type": "code",
        "colab": {}
      },
      "source": [
        "#jobidにTDの実行済みJOBのjobidを記述\n",
        "df = td_job_result(\"jobid\")"
      ],
      "execution_count": 0,
      "outputs": []
    }
  ]
}
