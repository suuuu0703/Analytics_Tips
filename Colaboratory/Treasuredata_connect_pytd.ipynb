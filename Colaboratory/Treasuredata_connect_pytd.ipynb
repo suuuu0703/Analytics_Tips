{
  "nbformat": 4,
  "nbformat_minor": 0,
  "metadata": {
    "colab": {
      "name": "Treasuredata_connect_pytd.ipynb",
      "provenance": [],
      "authorship_tag": "ABX9TyPgMjU0h6I4XfWqlAG22RPc",
      "include_colab_link": true
    },
    "kernelspec": {
      "name": "python3",
      "display_name": "Python 3"
    }
  },
  "cells": [
    {
      "cell_type": "markdown",
      "metadata": {
        "id": "view-in-github",
        "colab_type": "text"
      },
      "source": [
        "<a href=\"https://colab.research.google.com/github/suuuu0703/Analytics_Tips/blob/master/Colaboratory/Treasuredata_connect_pytd.ipynb\" target=\"_parent\"><img src=\"https://colab.research.google.com/assets/colab-badge.svg\" alt=\"Open In Colab\"/></a>"
      ]
    },
    {
      "cell_type": "markdown",
      "metadata": {
        "id": "CKbrngJw5-5Y",
        "colab_type": "text"
      },
      "source": [
        "#前処理"
      ]
    },
    {
      "cell_type": "markdown",
      "metadata": {
        "id": "TWktrbWcjgbs",
        "colab_type": "text"
      },
      "source": [
        "##日本語フォントインストール（※実行後にランタイムの再起動が必要）"
      ]
    },
    {
      "cell_type": "code",
      "metadata": {
        "id": "gszjn4mgDcU1",
        "colab_type": "code",
        "colab": {}
      },
      "source": [
        "# 日本語フォントをダウンロードする。\n",
        "!apt-get -y install fonts-ipafont-gothic\n",
        "\n",
        "# キャッシュを削除する。\n",
        "!rm /root/.cache/matplotlib/fontlist-v300.json # 消すべきcache\n",
        "\n",
        "# ランタイムを再起動する。"
      ],
      "execution_count": 0,
      "outputs": []
    },
    {
      "cell_type": "markdown",
      "metadata": {
        "id": "huCYpWVYPi2r",
        "colab_type": "text"
      },
      "source": [
        "##基本ライブラリインポート"
      ]
    },
    {
      "cell_type": "code",
      "metadata": {
        "id": "0qJ9xGjs4D1O",
        "colab_type": "code",
        "colab": {}
      },
      "source": [
        "%matplotlib inline\n",
        "import pandas as pd\n",
        "pd.options.display.max_columns = 1000\n",
        "pd.options.display.max_rows = 10000\n",
        "\n",
        "# 描画用ライブラリ\n",
        "import matplotlib.pyplot as plt\n",
        "import seaborn as sns\n",
        "sns.set(context='paper', style='whitegrid')\n",
        "sns.set_context(\"poster\")\n",
        "fpath = {'fontname':'IPAGothic'}\n",
        "\n",
        "# 日本語化\n",
        "!pip install japanize-matplotlib\n",
        "import japanize_matplotlib"
      ],
      "execution_count": 0,
      "outputs": []
    },
    {
      "cell_type": "markdown",
      "metadata": {
        "id": "GczcDFD84M55",
        "colab_type": "text"
      },
      "source": [
        "##TD_API_KEY取得用ライブラリインポート"
      ]
    },
    {
      "cell_type": "code",
      "metadata": {
        "colab_type": "code",
        "id": "QAH5wWmJ8adJ",
        "colab": {}
      },
      "source": [
        "!pip install -U -q PyDrive td-client\n",
        "from IPython.display import clear_output\n",
        "try:\n",
        "    # TD_API_KEY取得のためのGoogleドライブファイルインポート用ライブラリインポート\n",
        "    from pydrive.auth import GoogleAuth\n",
        "    from pydrive.drive import GoogleDrive\n",
        "    from google.colab import auth\n",
        "    from oauth2client.client import GoogleCredentials\n",
        "    from googleapiclient.discovery import build\n",
        "    auth.authenticate_user()\n",
        "    gauth = GoogleAuth()\n",
        "    gauth.credentials = GoogleCredentials.get_application_default()\n",
        "    drive = GoogleDrive(gauth)\n",
        "    drive_service = build('drive', 'v3')\n",
        "\n",
        "    #'Google Drive' > 'Colab Notebooks'ディレクトリ配下に'TD_API_KEY'というファイル名でTDのAPI Key（Master Key）を記述して保管\n",
        "    find_file = drive_service.files().list(q=\"name = 'TD_API_KEY'\", fields=\"files(id)\").execute()\n",
        "    file_id = find_file.get('files', [])[0]['id']\n",
        "    drive_file = drive.CreateFile({'id': file_id})\n",
        "    td_api_key = drive_file.GetContentString().strip()\n",
        "\n",
        "    clear_output()\n",
        "    print('All Loaded')        \n",
        "except Exception as e:\n",
        "  print(e)\n",
        "  pass"
      ],
      "execution_count": 0,
      "outputs": []
    },
    {
      "cell_type": "markdown",
      "metadata": {
        "id": "NFOgpM9w8FfQ",
        "colab_type": "text"
      },
      "source": [
        "#データ取得"
      ]
    },
    {
      "cell_type": "code",
      "metadata": {
        "id": "b42H4M2V8G_V",
        "colab_type": "code",
        "colab": {}
      },
      "source": [
        "!pip install pytd[spark]\n",
        "!apt-get install openjdk-8-jdk-headless -qq > /dev/null\n",
        "!echo 2 | update-alternatives --config java\n",
        "!java -version\n",
        "\n",
        "import os\n",
        "import pytd\n",
        "\n",
        "os.environ['TD_API_KEY'] = td_api_key\n",
        "os.environ['TD_API_SERVER'] = 'https://api.treasuredata.com'"
      ],
      "execution_count": 0,
      "outputs": []
    },
    {
      "cell_type": "code",
      "metadata": {
        "id": "1DpfPwJ0Zuo6",
        "colab_type": "code",
        "colab": {}
      },
      "source": [
        "q = \"\"\"\n",
        "    select \n",
        "        * \n",
        "    from \n",
        "        test_db.test_table\n",
        "    where \n",
        "        id = 1\n",
        "\"\"\""
      ],
      "execution_count": 0,
      "outputs": []
    },
    {
      "cell_type": "code",
      "metadata": {
        "id": "_zO2nH9AZxfj",
        "colab_type": "code",
        "colab": {}
      },
      "source": [
        "client = pytd.Client()\n",
        "res = client.query(q)\n",
        "df = pd.DataFrame(**res)\n",
        "df.head()"
      ],
      "execution_count": 0,
      "outputs": []
    }
  ]
}
